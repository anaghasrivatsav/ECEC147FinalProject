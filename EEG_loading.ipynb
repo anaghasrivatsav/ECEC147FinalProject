{
 "cells": [
  {
   "cell_type": "code",
   "execution_count": 1,
   "metadata": {
    "collapsed": true
   },
   "outputs": [],
   "source": [
    "import numpy as np"
   ]
  },
  {
   "cell_type": "code",
   "execution_count": 2,
   "metadata": {
    "collapsed": true
   },
   "outputs": [],
   "source": [
    "import numpy as np\n",
    "X_test = np.load(\"X_test.npy\")\n",
    "y_test = np.load(\"y_test.npy\")\n",
    "person_train_valid = np.load(\"person_train_valid.npy\")\n",
    "X_train_valid = np.load(\"X_train_valid.npy\")\n",
    "y_train_valid = np.load(\"y_train_valid.npy\")\n",
    "person_test = np.load(\"person_test.npy\")\n"
   ]
  },
  {
   "cell_type": "markdown",
   "metadata": {},
   "source": [
    "### Shape of data"
   ]
  },
  {
   "cell_type": "code",
   "execution_count": 7,
   "metadata": {},
   "outputs": [
    {
     "name": "stdout",
     "output_type": "stream",
     "text": [
      "Training/Valid data shape: (2115, 22, 1000)\n",
      "Test data shape: (443, 22, 1000)\n",
      "Training/Valid target shape: (2115,)\n",
      "Test target shape: (443,)\n",
      "Person train/valid shape: (2115, 1)\n",
      "Person test shape: (443, 1)\n",
      "[[  5.6640625    2.19726562  -1.3671875  ...  -9.91210938  -8.3984375\n",
      "   -8.25195312]\n",
      " [  9.47265625   4.98046875   2.1484375  ...  -7.2265625   -7.421875\n",
      "   -3.95507812]\n",
      " [  7.51953125   3.85742188   1.31835938 ...  -9.03320312  -7.91015625\n",
      "   -7.6171875 ]\n",
      " ...\n",
      " [ -4.05273438  -8.203125   -11.86523438 ...  12.93945312  11.71875\n",
      "   11.86523438]\n",
      " [ -6.15234375  -9.52148438 -12.35351562 ...  12.64648438  11.08398438\n",
      "   10.49804688]\n",
      " [ -7.08007812 -10.59570312 -14.74609375 ...  15.18554688  11.86523438\n",
      "    9.71679688]]\n",
      "771\n",
      "[771 772 769 ... 772 772 771]\n"
     ]
    }
   ],
   "source": [
    "print ('Training/Valid data shape: {}'.format(X_train_valid.shape))\n",
    "print ('Test data shape: {}'.format(X_test.shape))\n",
    "print ('Training/Valid target shape: {}'.format(y_train_valid.shape))\n",
    "print ('Test target shape: {}'.format(y_test.shape))\n",
    "print ('Person train/valid shape: {}'.format(person_train_valid.shape))\n",
    "print ('Person test shape: {}'.format(person_test.shape))\n",
    "\n",
    "\n",
    "# print one sample data\n",
    "print (X_train_valid[0,:,:])\n",
    "print (y_train_valid[0])\n",
    "print(y_train_valid)"
   ]
  }
 ],
 "metadata": {
  "kernelspec": {
   "display_name": "Python 3",
   "language": "python",
   "name": "python3"
  },
  "language_info": {
   "codemirror_mode": {
    "name": "ipython",
    "version": 3
   },
   "file_extension": ".py",
   "mimetype": "text/x-python",
   "name": "python",
   "nbconvert_exporter": "python",
   "pygments_lexer": "ipython3",
   "version": "3.11.7"
  }
 },
 "nbformat": 4,
 "nbformat_minor": 2
}
